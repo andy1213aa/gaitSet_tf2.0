{
 "cells": [
  {
   "cell_type": "code",
   "execution_count": 5,
   "id": "1a0eab57",
   "metadata": {},
   "outputs": [],
   "source": [
    "import tensorflow as tf\n",
    "import cv2\n",
    "import random\n",
    "import numpy as np\n",
    "import tensorflow_triplet_loss.model.triplet_loss as triplet_loss\n",
    "from functools import wraps\n",
    "import time\n",
    "from tqdm import tqdm\n",
    "from einops import rearrange, reduce, repeat\n",
    "import tensorflow_addons as tfa\n",
    "import os"
   ]
  },
  {
   "cell_type": "code",
   "execution_count": 2,
   "id": "84aad5f6",
   "metadata": {},
   "outputs": [],
   "source": [
    "mode = 'gaitset'\n",
    "date = '2022_11_3_14_40'\n",
    "gaitset = tf.keras.models.load_model(f'E:/ITRI_SSTC/S100/College-level_Applied_Research/gait_log/{mode}/{date}/gaitset/trained_ckpt')"
   ]
  },
  {
   "cell_type": "code",
   "execution_count": 6,
   "id": "c0cf9aa7",
   "metadata": {},
   "outputs": [],
   "source": [
    "def readTFRECORD(tfrecord_file_path):\n",
    "    AUTOTUNE = tf.data.experimental.AUTOTUNE\n",
    "    data_set = tf.data.TFRecordDataset(tfrecord_file_path)\n",
    "    data_set = data_set.map(parse, num_parallel_calls=AUTOTUNE)\n",
    "\n",
    "    data_set = data_set.shuffle(\n",
    "        1000, reshuffle_each_iteration=True)\n",
    "    data_batch = data_set.batch(8, drop_remainder=True)\n",
    "    data_batch = data_batch.prefetch(buffer_size=AUTOTUNE)\n",
    "    return data_batch\n",
    "\n",
    "def parse(example_proto):\n",
    "\n",
    "        features = tf.io.parse_single_example(\n",
    "            example_proto,\n",
    "            features={\n",
    "                'imgs': tf.io.FixedLenFeature([], tf.string),\n",
    "                'subject': tf.io.FixedLenFeature([], tf.string)\n",
    "            }\n",
    "            \n",
    "        )\n",
    "        imgs = features['imgs']\n",
    "    \n",
    "        subject = features['subject']\n",
    "    \n",
    "        imgs = tf.io.decode_raw(imgs, np.float32)\n",
    "        subject = tf.io.decode_raw(subject, np.float32)\n",
    "        \n",
    "    \n",
    "        \n",
    "        imgs = tf.reshape(imgs, (4, 16, 64, 64, 1))\n",
    "\n",
    "        subject = tf.reshape(subject, (4,))\n",
    "        \n",
    "        \n",
    "        \n",
    "\n",
    "        return [imgs, subject]"
   ]
  },
  {
   "cell_type": "code",
   "execution_count": 7,
   "id": "0037b354",
   "metadata": {},
   "outputs": [],
   "source": [
    "vali_data_batch = readTFRECORD(r'E:\\ITRI_SSTC\\S100\\gait\\tf_record\\gaitset_train_64x64_16k_4p.tfrecords')"
   ]
  },
  {
   "cell_type": "code",
   "execution_count": 8,
   "id": "481f5fe9",
   "metadata": {},
   "outputs": [
    {
     "name": "stderr",
     "output_type": "stream",
     "text": [
      "641it [00:41, 15.28it/s]\n",
      "100%|████████████████████████████████████████████████████████████| 10256/10256 [1:10:47<00:00,  2.41it/s]"
     ]
    },
    {
     "name": "stdout",
     "output_type": "stream",
     "text": [
      "Rank1: \n",
      " cos:91.17589703588143%, mse: 91.23439937597504%\n"
     ]
    },
    {
     "name": "stderr",
     "output_type": "stream",
     "text": [
      "\n"
     ]
    }
   ],
   "source": [
    "prob = []\n",
    "gallery = []\n",
    "\n",
    "prob_label_clt = []\n",
    "gallery_label_clt = []\n",
    "for step, batch in enumerate(tqdm(vali_data_batch)):\n",
    "    validate_imgs, validate_subjects = batch\n",
    "\n",
    "    prob_imgs = validate_imgs[:, 0:2, :, :, :, :]\n",
    "    gallery_imgs = validate_imgs[:, 2:, :, :, :, :]\n",
    "\n",
    "    # validate_imgs = rearrange(validate_imgs, 'b p s h w c -> (b p) s h w c')\n",
    "\n",
    "    prob_imgs = rearrange(prob_imgs, 'b p s h w c -> (b p) s h w c')\n",
    "    gallery_imgs = rearrange(gallery_imgs, 'b p s h w c -> (b p) s h w c')\n",
    "\n",
    "    prob_feature= gaitset(prob_imgs)\n",
    "    gallery_feature= gaitset(gallery_imgs)\n",
    "\n",
    "\n",
    "    prob_feature = rearrange(prob_feature, 'b h c -> b (h c)')\n",
    "    gallery_feature = rearrange(gallery_feature, 'b h c -> b (h c)')\n",
    "\n",
    "\n",
    "    prob.append(prob_feature)\n",
    "    gallery.append(gallery_feature)\n",
    "\n",
    "    prob_label = validate_subjects[:, 0:2]\n",
    "    gallery_label = validate_subjects[:, 2:]\n",
    "\n",
    "    prob_label = rearrange(prob_label, 'b p -> (b p)')\n",
    "    gallery_label = rearrange(gallery_label, 'b p -> (b p)')\n",
    "\n",
    "    prob_label_clt.append(prob_label)\n",
    "    gallery_label_clt.append(gallery_label)\n",
    "\n",
    "\n",
    "prob = np.concatenate( prob, axis=0 )\n",
    "gallery = np.concatenate( gallery, axis=0 )\n",
    "\n",
    "prob_label_clt = np.concatenate( prob_label_clt, axis=0 )\n",
    "gallery_label_clt = np.concatenate( gallery_label_clt, axis=0 )\n",
    "\n",
    "# RANK1\n",
    "cos_correct_cnt = 0\n",
    "mse_correct_cnt = 0\n",
    "\n",
    "cosine = tf.keras.losses.CosineSimilarity(axis=1,\n",
    "            reduction=tf.keras.losses.Reduction.NONE)\n",
    "mse = tf.keras.losses.MeanSquaredError(\n",
    "        reduction=tf.keras.losses.Reduction.NONE)\n",
    "\n",
    "for i, p in enumerate(tqdm(prob)):\n",
    "    p = np.tile(p, prob.shape[0]).reshape(prob.shape[0], -1)\n",
    "\n",
    "    #cosine\n",
    "    cosine_loss = cosine(gallery, p).numpy()\n",
    "    cosine_loss_predict_label = gallery_label_clt[np.argmin(cosine_loss)]\n",
    "\n",
    "    #Ecludiense\n",
    "    mse_loss = mse(gallery, p).numpy()\n",
    "    mse_predict_label = gallery_label_clt[np.argmin(mse_loss)]\n",
    "\n",
    "    if cosine_loss_predict_label == prob_label_clt[i]:\n",
    "        cos_correct_cnt+=1\n",
    "    if mse_predict_label == prob_label_clt[i]:\n",
    "        mse_correct_cnt+=1\n",
    "\n",
    "print(f'Rank1: \\n \\\n",
    "cos:{(cos_correct_cnt / prob.shape[0]) * 100}%, mse: {(mse_correct_cnt / prob.shape[0]) * 100}%')"
   ]
  },
  {
   "cell_type": "markdown",
   "id": "228c2b8a",
   "metadata": {},
   "source": [
    "# Test from folder"
   ]
  },
  {
   "cell_type": "code",
   "execution_count": 39,
   "id": "967daabb",
   "metadata": {},
   "outputs": [],
   "source": [
    "import itertools\n",
    "import random\n",
    "import tensorflow as tf\n",
    "import cv2\n",
    "import numpy as np\n",
    "import matplotlib.pyplot as plt\n",
    "import os\n",
    "import pathlib\n",
    "from einops import rearrange, reduce, repeat"
   ]
  },
  {
   "cell_type": "code",
   "execution_count": 18,
   "id": "ca5869e9",
   "metadata": {},
   "outputs": [],
   "source": [
    "def file_exist(path):\n",
    "    file = pathlib.Path(path)\n",
    "    return file.exists()\n",
    "\n",
    "class OU_MVLP_person():\n",
    "    def __init__(self, sequence: str, subject: str, img_per_person:int):\n",
    "        '''  \n",
    "        keywargs:\n",
    "            sequence: '00' or '01',\n",
    "            subject: a string. ID of a person.\n",
    "            k: a int. Number of images should read for a single person.\n",
    "        '''\n",
    "        \n",
    "        self.subject = str(subject).zfill(5)\n",
    "        self.sequence = sequence\n",
    "        self.img_per_person = img_per_person\n",
    "        self.possible_angles = [i for i in range(0, 91, 15)] + [i for i in range(180, 271, 15)]\n",
    "        \n",
    "      \n",
    "        \n",
    "        self.None_Exist = False\n",
    "        self.img_list = []\n",
    "\n",
    "        \n",
    "    def load_gait_image(self, path):\n",
    "        \n",
    "        for k in range(self.img_per_person):\n",
    "            while True:\n",
    "                angle = random.sample(self.possible_angles, 1)[0]\n",
    "                full_path = f'{path}/Silhouette_{str(angle).zfill(3)}-{self.sequence}/{self.subject}'\n",
    "                if file_exist(full_path):\n",
    "                    total_img_filenames = os.listdir(full_path)\n",
    "                    img_filename = random.sample(total_img_filenames, 1)[0]\n",
    "\n",
    "                    img = cv2.imread(f'{full_path}/{img_filename}', 0)\n",
    "                    img = img.reshape((64, 64, 1))\n",
    "                    self.img_list.append(img)\n",
    "                    break"
   ]
  },
  {
   "cell_type": "code",
   "execution_count": 13,
   "id": "b4a97f3b",
   "metadata": {},
   "outputs": [
    {
     "name": "stdout",
     "output_type": "stream",
     "text": [
      "0\n",
      "385\n",
      "798\n",
      "965\n",
      "1149\n",
      "2193\n",
      "2485\n",
      "2893\n",
      "3508\n",
      "3585\n",
      "3744\n",
      "4334\n",
      "4485\n",
      "4544\n",
      "4572\n",
      "4575\n",
      "4601\n",
      "4634\n",
      "4640\n",
      "4643\n",
      "4660\n",
      "4663\n",
      "5397\n",
      "5915\n",
      "6005\n",
      "6086\n",
      "7053\n",
      "7205\n",
      "7295\n",
      "7449\n",
      "7462\n",
      "7515\n",
      "8271\n",
      "9043\n",
      "9209\n",
      "9318\n",
      "9786\n",
      "10023\n",
      "10027\n",
      "10033\n",
      "10280\n",
      "10283\n"
     ]
    }
   ],
   "source": [
    "path = 'E:/ITRI_SSTC/S100/gait/OUMVLP_process'\n",
    "sequence = '00'\n",
    "total_subject = [i for i in range(10307)]\n",
    "\n",
    "for subject in range(10307):\n",
    "    exist = 0\n",
    "    for angle in [i for i in range(0, 91, 15)] + [i for i in range(180, 271, 15)]:\n",
    "        if os.path.isdir(f'{path}/Silhouette_{str(angle).zfill(3)}-{sequence}/{str(subject).zfill(5)}'):\n",
    "            exist +=1\n",
    "    if exist < 5:\n",
    "        print(subject)\n",
    "        total_subject.remove(subject)"
   ]
  },
  {
   "cell_type": "code",
   "execution_count": 14,
   "id": "fc98b646",
   "metadata": {},
   "outputs": [],
   "source": [
    "random.shuffle(total_subject)\n",
    "train_subject = total_subject[:5132]\n",
    "test_object = total_subject[5132:]"
   ]
  },
  {
   "cell_type": "code",
   "execution_count": 26,
   "id": "9853bdb0",
   "metadata": {},
   "outputs": [],
   "source": [
    "def load_data(data_path, phase, k, p):\n",
    "\n",
    "    # '00' for training and '01' for testing\n",
    "    if phase == 'Train':\n",
    "        sequence = '00'\n",
    "    elif phase == 'Test':\n",
    "        sequence = '01'\n",
    "    else:\n",
    "        print('Wrong phase input.')\n",
    "        print('Option: \"Train\" or \"Test\"')\n",
    "        return\n",
    "        \n",
    "    # angle = [0, 15, 30, ..., 270]\n",
    "    angles = [i for i in range(0, 91, 15)] + [i for i in range(180, 271, 15)]\n",
    "    # 10307 subjects\n",
    "    subject_nums = 10307\n",
    "    path = data_path\n",
    "    shape = 10\n",
    "    gait_silh = np.zeros((shape, p, k, 64, 64, 1))\n",
    "    label = np.zeros((shape, p))\n",
    "    cnt = 0\n",
    "    for i, sub in enumerate(test_object[:10]):\n",
    "        person_list = []\n",
    "        subject_list = []\n",
    "#             None_exist_list = []\n",
    "\n",
    "        while True:\n",
    "            person = OU_MVLP_person(sequence = sequence, subject = sub, img_per_person = k)\n",
    "            person.load_gait_image(path)\n",
    "            person_list.append(person.img_list)\n",
    "            subject_list.append(np.float32(person.subject))\n",
    "#                 None_exist_list.append(person.None_Exist)\n",
    "            \n",
    "            if len(person_list) >= p:\n",
    "                break\n",
    " \n",
    "        imgs = np.array(person_list)\n",
    "        gait_silh[i] = imgs\n",
    "        subject = np.array(subject_list)\n",
    "        label[i] = subject\n",
    "    return gait_silh, label"
   ]
  },
  {
   "cell_type": "code",
   "execution_count": 28,
   "id": "dfe68a00",
   "metadata": {},
   "outputs": [],
   "source": [
    "gait_silh, label = load_data(r'E:\\ITRI_SSTC\\S100\\gait\\OUMVLP_process', 'Train', k=16, p=4)"
   ]
  },
  {
   "cell_type": "code",
   "execution_count": 30,
   "id": "36dfc63c",
   "metadata": {},
   "outputs": [
    {
     "data": {
      "text/plain": [
       "(10, 4, 16, 64, 64, 1)"
      ]
     },
     "execution_count": 30,
     "metadata": {},
     "output_type": "execute_result"
    }
   ],
   "source": [
    "gait_silh.shape"
   ]
  },
  {
   "cell_type": "markdown",
   "id": "8caa1279",
   "metadata": {},
   "source": [
    "# Draw"
   ]
  },
  {
   "cell_type": "code",
   "execution_count": 37,
   "id": "db83f483",
   "metadata": {},
   "outputs": [
    {
     "data": {
      "image/png": "[encoded data removed]",
      "text/plain": [
       "<Figure size 640x480 with 16 Axes>"
      ]
     },
     "metadata": {},
     "output_type": "display_data"
    }
   ],
   "source": [
    "import numpy as np\n",
    "import matplotlib.pyplot as plt\n",
    "\n",
    "width=5\n",
    "height=5\n",
    "rows = 4\n",
    "cols = 4\n",
    "axes=[]\n",
    "fig=plt.figure()\n",
    "\n",
    "ppl = 5\n",
    "\n",
    "for i in range(16):\n",
    "    b = gait_silh[ppl][0][i].astype('uint8')\n",
    "    axes.append( fig.add_subplot(rows, cols, i+1) )\n",
    "    subplot_title=(\"Subplot\"+str(i))\n",
    "    axes[-1].set_title(subplot_title)  \n",
    "    plt.imshow(b)\n",
    "fig.tight_layout()    \n",
    "plt.show()"
   ]
  },
  {
   "cell_type": "code",
   "execution_count": 45,
   "id": "889da370",
   "metadata": {},
   "outputs": [
    {
     "data": {
      "text/plain": [
       "(10, 4)"
      ]
     },
     "execution_count": 45,
     "metadata": {},
     "output_type": "execute_result"
    }
   ],
   "source": [
    "label.shape"
   ]
  },
  {
   "cell_type": "code",
   "execution_count": 44,
   "id": "43eeaaa2",
   "metadata": {},
   "outputs": [
    {
     "data": {
      "text/plain": [
       "(10, 4, 16, 64, 64, 1)"
      ]
     },
     "execution_count": 44,
     "metadata": {},
     "output_type": "execute_result"
    }
   ],
   "source": [
    "gait_silh.shape"
   ]
  },
  {
   "cell_type": "code",
   "execution_count": 47,
   "id": "b97e33d5",
   "metadata": {},
   "outputs": [],
   "source": [
    "gait_silh_reshape = rearrange(gait_silh, 'b p k h w c -> (b p) k h w c')\n",
    "label_reshape = rearrange(label, 'b p -> (b p)')"
   ]
  },
  {
   "cell_type": "code",
   "execution_count": 56,
   "id": "d52ae52d",
   "metadata": {},
   "outputs": [],
   "source": [
    "gait_embedding = gaitset(gait_silh_reshape)"
   ]
  },
  {
   "cell_type": "code",
   "execution_count": 60,
   "id": "8aee8b24",
   "metadata": {},
   "outputs": [],
   "source": [
    "gait_embedding = rearrange(gait_embedding, 'b h c -> b (h c)')"
   ]
  },
  {
   "cell_type": "code",
   "execution_count": 68,
   "id": "f11838d8",
   "metadata": {},
   "outputs": [
    {
     "name": "stdout",
     "output_type": "stream",
     "text": [
      "Featur 0:  11911.572860038257\n",
      "Featur 1:  12872.97199561935\n",
      "Featur 2:  11114.36907790991\n",
      "Featur 3:  13161.111199287088\n",
      "Featur 4:  13555.400399840648\n",
      "Featur 5:  13137.948698331867\n",
      "Featur 6:  13022.095069534702\n",
      "Featur 7:  13678.326213393217\n",
      "Featur 8:  16611.16636482821\n",
      "Featur 9:  16289.684588720556\n",
      "Featur 10:  15348.05160272795\n",
      "Featur 11:  14147.983036461417\n",
      "Featur 12:  11690.083318779212\n",
      "Featur 13:  12659.089382732078\n",
      "Featur 14:  12693.418767219491\n",
      "Featur 15:  12727.106191118231\n",
      "Featur 16:  12547.924768661947\n",
      "Featur 17:  12156.974623647118\n",
      "Featur 18:  13649.249649706024\n",
      "Featur 19:  12133.002925904206\n",
      "Featur 20:  21133.67284690477\n",
      "Featur 21:  20216.7423686409\n",
      "Featur 22:  21641.799555489833\n",
      "Featur 23:  20667.0644262798\n",
      "Featur 24:  19984.331462423255\n",
      "Featur 25:  20869.134337580945\n",
      "Featur 26:  21340.573937923975\n",
      "Featur 27:  20764.54670827177\n",
      "Featur 28:  5486.7895895505235\n",
      "Featur 29:  4199.76285044763\n",
      "Featur 30:  5607.366940017391\n",
      "Featur 31:  0.0\n",
      "Featur 32:  14490.877682183367\n",
      "Featur 33:  14627.00844328737\n",
      "Featur 34:  15278.966457192057\n",
      "Featur 35:  14788.267782265779\n",
      "Featur 36:  13256.047072939957\n",
      "Featur 37:  14185.068205687276\n",
      "Featur 38:  14074.194257576524\n",
      "Featur 39:  13934.830031256211\n"
     ]
    }
   ],
   "source": [
    "for i, feature in enumerate(gait_embedding):\n",
    "    print(f'Featur {i}: ', np.sum((gait_embedding[31] - feature) **2) ** 0.5)"
   ]
  },
  {
   "cell_type": "code",
   "execution_count": null,
   "id": "96a63e35",
   "metadata": {},
   "outputs": [],
   "source": []
  }
 ],
 "metadata": {
  "kernelspec": {
   "display_name": "Python 3 (ipykernel)",
   "language": "python",
   "name": "python3"
  },
  "language_info": {
   "codemirror_mode": {
    "name": "ipython",
    "version": 3
   },
   "file_extension": ".py",
   "mimetype": "text/x-python",
   "name": "python",
   "nbconvert_exporter": "python",
   "pygments_lexer": "ipython3",
   "version": "3.8.13"
  }
 },
 "nbformat": 4,
 "nbformat_minor": 5
}
